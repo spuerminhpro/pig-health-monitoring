{
 "cells": [
  {
   "cell_type": "code",
   "execution_count": 2,
   "metadata": {},
   "outputs": [
    {
     "name": "stdout",
     "output_type": "stream",
     "text": [
      "Model saved at: E:\\program\\pythonProject\\Smartfarm_project\\pig health\\healh cassification\\healh cassification\\modelshealthy_V5_224.h5\n"
     ]
    }
   ],
   "source": [
    "import tensorflow as tf\n",
    "from tensorflow.keras.models import load_model\n",
    "\n",
    "model_path = r\"e:\\program\\pythonProject\\Smartfarm_project\\pig health\\healthy_V5_224.h5\"\n",
    "model = load_model(model_path)\n",
    "\n",
    "# Re-save in updated Keras format\n",
    "new_model_path = r\"E:\\program\\pythonProject\\Smartfarm_project\\pig health\\healh cassification\\healh cassification\\modelshealthy_V5_224.h5\"\n",
    "model.save(new_model_path, save_format=\"h5\")\n",
    "print(f\"Model saved at: {new_model_path}\")\n"
   ]
  },
  {
   "cell_type": "code",
   "execution_count": 4,
   "metadata": {},
   "outputs": [
    {
     "name": "stderr",
     "output_type": "stream",
     "text": [
      "WARNING:absl:Compiled the loaded model, but the compiled metrics have yet to be built. `model.compile_metrics` will be empty until you train or evaluate the model.\n"
     ]
    }
   ],
   "source": [
    "import tensorflow as tf\n",
    "\n",
    "# Load the model using TensorFlow 2.12\n",
    "model = tf.keras.models.load_model(r\"e:\\program\\pythonProject\\Smartfarm_project\\pig health\\healh cassification\\healh cassification\\models\\healthy_V4_224.h5\")\n",
    "model.compile(optimizer='adam', loss='binary_crossentropy', metrics=['accuracy'])\n",
    "\n",
    "# Re-save the model in TensorFlow 2.17-compatible format\n",
    "updated_model_path = r\"E:\\program\\pythonProject\\Smartfarm_project\\pig health\\healh cassification\\healh cassification\\models\\healthy_V5_224_updated.keras\"\n",
    "model.save(updated_model_path)"
   ]
  },
  {
   "cell_type": "code",
   "execution_count": 9,
   "metadata": {},
   "outputs": [
    {
     "name": "stderr",
     "output_type": "stream",
     "text": [
      "WARNING:absl:Compiled the loaded model, but the compiled metrics have yet to be built. `model.compile_metrics` will be empty until you train or evaluate the model.\n"
     ]
    },
    {
     "name": "stdout",
     "output_type": "stream",
     "text": [
      "Model loaded successfully!\n"
     ]
    }
   ],
   "source": [
    "from tensorflow.keras.models import load_model\n",
    "\n",
    "model = load_model(r\"e:\\program\\pythonProject\\Smartfarm_project\\pig health\\healh cassification\\healh cassification\\models\\healthy_V4_224_updated.h5\")\n",
    "print(\"Model loaded successfully!\")\n"
   ]
  }
 ],
 "metadata": {
  "kernelspec": {
   "display_name": "tensor-gpu",
   "language": "python",
   "name": "python3"
  },
  "language_info": {
   "codemirror_mode": {
    "name": "ipython",
    "version": 3
   },
   "file_extension": ".py",
   "mimetype": "text/x-python",
   "name": "python",
   "nbconvert_exporter": "python",
   "pygments_lexer": "ipython3",
   "version": "3.10.16"
  }
 },
 "nbformat": 4,
 "nbformat_minor": 2
}
